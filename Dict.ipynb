{
  "nbformat": 4,
  "nbformat_minor": 0,
  "metadata": {
    "colab": {
      "provenance": []
    },
    "kernelspec": {
      "name": "python3",
      "display_name": "Python 3"
    },
    "language_info": {
      "name": "python"
    }
  },
  "cells": [
    {
      "cell_type": "code",
      "execution_count": null,
      "metadata": {
        "id": "m1Ox1cWpCiYG"
      },
      "outputs": [],
      "source": [
        "#Dict"
      ]
    },
    {
      "cell_type": "code",
      "source": [
        "football=[{}]"
      ],
      "metadata": {
        "id": "50BKoLQDCysz"
      },
      "execution_count": null,
      "outputs": []
    },
    {
      "cell_type": "code",
      "source": [
        "football={\"ST\":\"C.Ronaldo\",\"CAM\":\"Neymar.JR\",\"CB\":\"S.Ramos\"}"
      ],
      "metadata": {
        "id": "03mInO40DNu7"
      },
      "execution_count": null,
      "outputs": []
    },
    {
      "cell_type": "code",
      "source": [
        "football"
      ],
      "metadata": {
        "colab": {
          "base_uri": "https://localhost:8080/"
        },
        "id": "jnY1SfFVEBd2",
        "outputId": "f4494331-a249-4664-e6cb-16a46d8ab494"
      },
      "execution_count": null,
      "outputs": [
        {
          "output_type": "execute_result",
          "data": {
            "text/plain": [
              "{'ST': 'C.Ronaldo', 'CAM': 'Neymar.JR', 'CB': 'S.Ramos'}"
            ]
          },
          "metadata": {},
          "execution_count": 4
        }
      ]
    },
    {
      "cell_type": "code",
      "source": [
        "football.pop(\"CAM\")"
      ],
      "metadata": {
        "colab": {
          "base_uri": "https://localhost:8080/",
          "height": 35
        },
        "id": "bMroas5QEE7R",
        "outputId": "dd67a439-06a0-40ed-f726-687112ca7538"
      },
      "execution_count": null,
      "outputs": [
        {
          "output_type": "execute_result",
          "data": {
            "text/plain": [
              "'Neymar.JR'"
            ],
            "application/vnd.google.colaboratory.intrinsic+json": {
              "type": "string"
            }
          },
          "metadata": {},
          "execution_count": 6
        }
      ]
    },
    {
      "cell_type": "code",
      "source": [
        "football"
      ],
      "metadata": {
        "colab": {
          "base_uri": "https://localhost:8080/"
        },
        "id": "z_ZvBapQERWn",
        "outputId": "521ea525-6d30-43ad-abf5-ba9a25f60b36"
      },
      "execution_count": null,
      "outputs": [
        {
          "output_type": "execute_result",
          "data": {
            "text/plain": [
              "{'ST': 'C.Ronaldo', 'CB': 'S.Ramos'}"
            ]
          },
          "metadata": {},
          "execution_count": 7
        }
      ]
    },
    {
      "cell_type": "code",
      "source": [
        "football.update({\"CDM\":\"Casemiro\"})"
      ],
      "metadata": {
        "id": "TO7ZlWrYEZdB"
      },
      "execution_count": null,
      "outputs": []
    },
    {
      "cell_type": "code",
      "source": [
        "football"
      ],
      "metadata": {
        "colab": {
          "base_uri": "https://localhost:8080/"
        },
        "id": "3uLA76uFE6xZ",
        "outputId": "6c109a2f-473e-445e-906f-0934eb85d621"
      },
      "execution_count": null,
      "outputs": [
        {
          "output_type": "execute_result",
          "data": {
            "text/plain": [
              "{'ST': 'C.Ronaldo', 'CB': 'S.Ramos', 'CDM': 'Casemiro'}"
            ]
          },
          "metadata": {},
          "execution_count": 12
        }
      ]
    },
    {
      "cell_type": "code",
      "source": [
        "football.keys()"
      ],
      "metadata": {
        "colab": {
          "base_uri": "https://localhost:8080/"
        },
        "id": "iXdvnXcmE9Au",
        "outputId": "18581d1f-38e7-408c-a757-edf32e9eec57"
      },
      "execution_count": null,
      "outputs": [
        {
          "output_type": "execute_result",
          "data": {
            "text/plain": [
              "dict_keys(['ST', 'CB', 'CDM'])"
            ]
          },
          "metadata": {},
          "execution_count": 14
        }
      ]
    },
    {
      "cell_type": "code",
      "source": [
        "football.get(\"ST\")"
      ],
      "metadata": {
        "colab": {
          "base_uri": "https://localhost:8080/",
          "height": 35
        },
        "id": "eyphqkx1FDCc",
        "outputId": "eb43b393-4ec7-4906-d3a6-f34561983b3a"
      },
      "execution_count": null,
      "outputs": [
        {
          "output_type": "execute_result",
          "data": {
            "text/plain": [
              "'C.Ronaldo'"
            ],
            "application/vnd.google.colaboratory.intrinsic+json": {
              "type": "string"
            }
          },
          "metadata": {},
          "execution_count": 16
        }
      ]
    },
    {
      "cell_type": "code",
      "source": [
        "football.items()"
      ],
      "metadata": {
        "colab": {
          "base_uri": "https://localhost:8080/"
        },
        "id": "4p0L8lS5Jq7R",
        "outputId": "7cc2283c-d4db-4551-dff2-30aae8b63ece"
      },
      "execution_count": null,
      "outputs": [
        {
          "output_type": "execute_result",
          "data": {
            "text/plain": [
              "dict_items([('ST', 'C.Ronaldo'), ('CB', 'S.Ramos'), ('CDM', 'Casemiro')])"
            ]
          },
          "metadata": {},
          "execution_count": 17
        }
      ]
    },
    {
      "cell_type": "markdown",
      "source": [],
      "metadata": {
        "id": "U2O8Qo5DEv79"
      }
    },
    {
      "cell_type": "code",
      "source": [
        "for i in football:\n",
        "  print(i)"
      ],
      "metadata": {
        "colab": {
          "base_uri": "https://localhost:8080/"
        },
        "id": "dJzDSdTjJyZK",
        "outputId": "a11918fe-ed84-4065-b75a-0998a2cc4d81"
      },
      "execution_count": null,
      "outputs": [
        {
          "output_type": "stream",
          "name": "stdout",
          "text": [
            "ST\n",
            "CB\n",
            "CDM\n"
          ]
        }
      ]
    },
    {
      "cell_type": "code",
      "source": [
        "football.values()"
      ],
      "metadata": {
        "colab": {
          "base_uri": "https://localhost:8080/"
        },
        "id": "JEbeAritKfid",
        "outputId": "5723143d-4cf1-4467-e96a-4ce91c47f8b9"
      },
      "execution_count": null,
      "outputs": [
        {
          "output_type": "execute_result",
          "data": {
            "text/plain": [
              "dict_values(['C.Ronaldo', 'S.Ramos', 'Casemiro'])"
            ]
          },
          "metadata": {},
          "execution_count": 25
        }
      ]
    },
    {
      "cell_type": "code",
      "source": [
        "for i in football.values():\n",
        "   print(i)"
      ],
      "metadata": {
        "colab": {
          "base_uri": "https://localhost:8080/"
        },
        "id": "Yg3d582XKkLH",
        "outputId": "421ee04c-27a6-4607-df77-3b831965bf9a"
      },
      "execution_count": null,
      "outputs": [
        {
          "output_type": "stream",
          "name": "stdout",
          "text": [
            "C.Ronaldo\n",
            "S.Ramos\n",
            "Casemiro\n"
          ]
        }
      ]
    },
    {
      "cell_type": "code",
      "source": [
        "football.items()"
      ],
      "metadata": {
        "colab": {
          "base_uri": "https://localhost:8080/"
        },
        "id": "myDmywsAKs5R",
        "outputId": "8a3c533e-0f9a-4bbe-8b5c-99931f3a99ad"
      },
      "execution_count": null,
      "outputs": [
        {
          "output_type": "execute_result",
          "data": {
            "text/plain": [
              "dict_items([('ST', 'C.Ronaldo'), ('CB', 'S.Ramos'), ('CDM', 'Casemiro')])"
            ]
          },
          "metadata": {},
          "execution_count": 27
        }
      ]
    },
    {
      "cell_type": "code",
      "source": [
        "for i in football.items():\n",
        "   print (i)"
      ],
      "metadata": {
        "colab": {
          "base_uri": "https://localhost:8080/"
        },
        "id": "IDHeQ4JwKykQ",
        "outputId": "36dd2a39-6ff4-434d-c71a-5d0058131d5e"
      },
      "execution_count": null,
      "outputs": [
        {
          "output_type": "stream",
          "name": "stdout",
          "text": [
            "('ST', 'C.Ronaldo')\n",
            "('CB', 'S.Ramos')\n",
            "('CDM', 'Casemiro')\n"
          ]
        }
      ]
    }
  ]
}