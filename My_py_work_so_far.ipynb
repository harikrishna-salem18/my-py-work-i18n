{
  "nbformat": 4,
  "nbformat_minor": 0,
  "metadata": {
    "colab": {
      "provenance": []
    },
    "kernelspec": {
      "name": "python3",
      "display_name": "Python 3"
    },
    "language_info": {
      "name": "python"
    }
  },
  "cells": [
    {
      "cell_type": "code",
      "execution_count": null,
      "metadata": {
        "colab": {
          "base_uri": "https://localhost:8080/"
        },
        "id": "K2EZjtj80eBV",
        "outputId": "1a4dddce-f23d-4961-8cb5-f02ca3c9ed65"
      },
      "outputs": [
        {
          "output_type": "stream",
          "name": "stdout",
          "text": [
            "100\n"
          ]
        },
        {
          "output_type": "execute_result",
          "data": {
            "text/plain": [
              "int"
            ]
          },
          "metadata": {},
          "execution_count": 1
        }
      ],
      "source": [
        "x=30\n",
        "y=50\n",
        "z=20\n",
        "sum=x+y+z\n",
        "print(sum)\n",
        "type(sum)"
      ]
    },
    {
      "cell_type": "code",
      "source": [
        "x=50\n",
        "id(x)"
      ],
      "metadata": {
        "colab": {
          "base_uri": "https://localhost:8080/"
        },
        "id": "RuOpbaEN0qPU",
        "outputId": "c328b7f6-0d78-4601-dac8-77a1bbad8202"
      },
      "execution_count": null,
      "outputs": [
        {
          "output_type": "execute_result",
          "data": {
            "text/plain": [
              "140067645818640"
            ]
          },
          "metadata": {},
          "execution_count": 3
        }
      ]
    },
    {
      "cell_type": "code",
      "source": [
        "id(y)"
      ],
      "metadata": {
        "colab": {
          "base_uri": "https://localhost:8080/"
        },
        "id": "tV0o5kIr0xIi",
        "outputId": "ea2ccb20-0b2c-46ec-9dca-16434d307908"
      },
      "execution_count": null,
      "outputs": [
        {
          "output_type": "execute_result",
          "data": {
            "text/plain": [
              "140067645818640"
            ]
          },
          "metadata": {},
          "execution_count": 4
        }
      ]
    },
    {
      "cell_type": "code",
      "source": [
        "x+10"
      ],
      "metadata": {
        "colab": {
          "base_uri": "https://localhost:8080/"
        },
        "id": "lIcZdr2M01ca",
        "outputId": "6030f027-1de8-4518-bde3-58d567a23b3c"
      },
      "execution_count": null,
      "outputs": [
        {
          "output_type": "execute_result",
          "data": {
            "text/plain": [
              "60"
            ]
          },
          "metadata": {},
          "execution_count": 8
        }
      ]
    },
    {
      "cell_type": "code",
      "source": [
        "x-30"
      ],
      "metadata": {
        "colab": {
          "base_uri": "https://localhost:8080/"
        },
        "id": "-Pr6QRh21M2E",
        "outputId": "0b764785-773c-4575-b217-b3c34d3238ac"
      },
      "execution_count": null,
      "outputs": [
        {
          "output_type": "execute_result",
          "data": {
            "text/plain": [
              "20"
            ]
          },
          "metadata": {},
          "execution_count": 9
        }
      ]
    },
    {
      "cell_type": "code",
      "source": [
        "x*3"
      ],
      "metadata": {
        "colab": {
          "base_uri": "https://localhost:8080/"
        },
        "id": "tf0T51Ji1Q2J",
        "outputId": "4e78eb90-f924-4370-80b6-5bc666124b6e"
      },
      "execution_count": null,
      "outputs": [
        {
          "output_type": "execute_result",
          "data": {
            "text/plain": [
              "150"
            ]
          },
          "metadata": {},
          "execution_count": 10
        }
      ]
    },
    {
      "cell_type": "code",
      "source": [
        "x**3"
      ],
      "metadata": {
        "colab": {
          "base_uri": "https://localhost:8080/"
        },
        "id": "KYP641bb1TAB",
        "outputId": "ea55f406-24c8-4cc7-fe71-b2473021a3c1"
      },
      "execution_count": null,
      "outputs": [
        {
          "output_type": "execute_result",
          "data": {
            "text/plain": [
              "125000"
            ]
          },
          "metadata": {},
          "execution_count": 11
        }
      ]
    },
    {
      "cell_type": "code",
      "source": [
        "x/5"
      ],
      "metadata": {
        "colab": {
          "base_uri": "https://localhost:8080/"
        },
        "id": "IXsWN8bc1V5Z",
        "outputId": "17da03e1-ac58-4cc2-fb37-fef33008b26b"
      },
      "execution_count": null,
      "outputs": [
        {
          "output_type": "execute_result",
          "data": {
            "text/plain": [
              "10.0"
            ]
          },
          "metadata": {},
          "execution_count": 12
        }
      ]
    },
    {
      "cell_type": "code",
      "source": [
        "x//10"
      ],
      "metadata": {
        "colab": {
          "base_uri": "https://localhost:8080/"
        },
        "id": "MZU8GTHR1ZVp",
        "outputId": "f4ef758d-88fd-40f9-cfce-e4e3bf647213"
      },
      "execution_count": null,
      "outputs": [
        {
          "output_type": "execute_result",
          "data": {
            "text/plain": [
              "5"
            ]
          },
          "metadata": {},
          "execution_count": 14
        }
      ]
    },
    {
      "cell_type": "code",
      "source": [
        "x%5"
      ],
      "metadata": {
        "colab": {
          "base_uri": "https://localhost:8080/"
        },
        "id": "5NdS-0LR1cG5",
        "outputId": "ab941186-1f0d-4dd7-eb7f-cbda27936587"
      },
      "execution_count": null,
      "outputs": [
        {
          "output_type": "execute_result",
          "data": {
            "text/plain": [
              "0"
            ]
          },
          "metadata": {},
          "execution_count": 15
        }
      ]
    },
    {
      "cell_type": "code",
      "source": [
        "x%12"
      ],
      "metadata": {
        "colab": {
          "base_uri": "https://localhost:8080/"
        },
        "id": "i2HkMEX6112A",
        "outputId": "c5e57443-e00e-44ac-a9f3-fc6b88cbe0d0"
      },
      "execution_count": null,
      "outputs": [
        {
          "output_type": "execute_result",
          "data": {
            "text/plain": [
              "2"
            ]
          },
          "metadata": {},
          "execution_count": 16
        }
      ]
    },
    {
      "cell_type": "code",
      "source": [
        "x=50\n",
        "x+=5\n",
        "x"
      ],
      "metadata": {
        "colab": {
          "base_uri": "https://localhost:8080/"
        },
        "id": "ZWy6Bcey14So",
        "outputId": "32318899-3227-40be-e941-9520eb0b772d"
      },
      "execution_count": null,
      "outputs": [
        {
          "output_type": "execute_result",
          "data": {
            "text/plain": [
              "55"
            ]
          },
          "metadata": {},
          "execution_count": 19
        }
      ]
    },
    {
      "cell_type": "code",
      "source": [
        "x\n",
        "x-=15\n",
        "x"
      ],
      "metadata": {
        "colab": {
          "base_uri": "https://localhost:8080/"
        },
        "id": "3nwWCpmr2YY-",
        "outputId": "49ca7b07-f716-42df-e07d-96a56c7a6c94"
      },
      "execution_count": null,
      "outputs": [
        {
          "output_type": "execute_result",
          "data": {
            "text/plain": [
              "40"
            ]
          },
          "metadata": {},
          "execution_count": 20
        }
      ]
    },
    {
      "cell_type": "code",
      "source": [
        "name=\"hari\"\n",
        "type(name)"
      ],
      "metadata": {
        "colab": {
          "base_uri": "https://localhost:8080/"
        },
        "id": "_FDL7_ox2dzW",
        "outputId": "ad0dfc4f-7485-49d2-c15a-961ac787f1b9"
      },
      "execution_count": null,
      "outputs": [
        {
          "output_type": "execute_result",
          "data": {
            "text/plain": [
              "str"
            ]
          },
          "metadata": {},
          "execution_count": 21
        }
      ]
    },
    {
      "cell_type": "code",
      "source": [
        "id(name)"
      ],
      "metadata": {
        "colab": {
          "base_uri": "https://localhost:8080/"
        },
        "id": "sHry6O2E2gF2",
        "outputId": "5f95cda8-cb11-4d7b-b81d-9fbd0e679838"
      },
      "execution_count": null,
      "outputs": [
        {
          "output_type": "execute_result",
          "data": {
            "text/plain": [
              "140066885331568"
            ]
          },
          "metadata": {},
          "execution_count": 22
        }
      ]
    },
    {
      "cell_type": "code",
      "source": [
        "surname=\"selva\"\n",
        "type(surname)"
      ],
      "metadata": {
        "colab": {
          "base_uri": "https://localhost:8080/"
        },
        "id": "7HeuXVuN2jnu",
        "outputId": "ab255e3f-1fd0-40b2-b1d4-ffbaeedd0141"
      },
      "execution_count": null,
      "outputs": [
        {
          "output_type": "execute_result",
          "data": {
            "text/plain": [
              "str"
            ]
          },
          "metadata": {},
          "execution_count": 23
        }
      ]
    },
    {
      "cell_type": "code",
      "source": [
        "id(surname)"
      ],
      "metadata": {
        "colab": {
          "base_uri": "https://localhost:8080/"
        },
        "id": "dqtcGa9K3aVc",
        "outputId": "3dbf9767-0e1e-44f8-b1a7-1d427d130a5e"
      },
      "execution_count": null,
      "outputs": [
        {
          "output_type": "execute_result",
          "data": {
            "text/plain": [
              "140066885333040"
            ]
          },
          "metadata": {},
          "execution_count": 24
        }
      ]
    },
    {
      "cell_type": "code",
      "source": [
        "sum=name+surname\n",
        "sum"
      ],
      "metadata": {
        "colab": {
          "base_uri": "https://localhost:8080/",
          "height": 35
        },
        "id": "6TdmQbTP333q",
        "outputId": "9743421f-242e-49ec-a779-a1cf391d14b3"
      },
      "execution_count": null,
      "outputs": [
        {
          "output_type": "execute_result",
          "data": {
            "text/plain": [
              "'hariselva'"
            ],
            "application/vnd.google.colaboratory.intrinsic+json": {
              "type": "string"
            }
          },
          "metadata": {},
          "execution_count": 25
        }
      ]
    },
    {
      "cell_type": "code",
      "source": [
        "x=1\n",
        "y=2\n",
        "x<y"
      ],
      "metadata": {
        "colab": {
          "base_uri": "https://localhost:8080/"
        },
        "id": "SYX6nXkE4DfC",
        "outputId": "e8e271a2-430a-4871-ce92-8ed02f53cb37"
      },
      "execution_count": null,
      "outputs": [
        {
          "output_type": "execute_result",
          "data": {
            "text/plain": [
              "True"
            ]
          },
          "metadata": {},
          "execution_count": 26
        }
      ]
    },
    {
      "cell_type": "code",
      "source": [
        "x<=y"
      ],
      "metadata": {
        "colab": {
          "base_uri": "https://localhost:8080/"
        },
        "id": "c6DM2D1N4FYy",
        "outputId": "d8bd7382-fb96-4bea-bd25-289f2285cf12"
      },
      "execution_count": null,
      "outputs": [
        {
          "output_type": "execute_result",
          "data": {
            "text/plain": [
              "True"
            ]
          },
          "metadata": {},
          "execution_count": 27
        }
      ]
    },
    {
      "cell_type": "code",
      "source": [
        "x>y"
      ],
      "metadata": {
        "colab": {
          "base_uri": "https://localhost:8080/"
        },
        "id": "jPgUEJ1N5rUp",
        "outputId": "a7650424-ab0c-4127-b7c1-bcc43a35abdd"
      },
      "execution_count": null,
      "outputs": [
        {
          "output_type": "execute_result",
          "data": {
            "text/plain": [
              "False"
            ]
          },
          "metadata": {},
          "execution_count": 28
        }
      ]
    },
    {
      "cell_type": "code",
      "source": [
        "x>=y"
      ],
      "metadata": {
        "colab": {
          "base_uri": "https://localhost:8080/"
        },
        "id": "gx6eKu685uup",
        "outputId": "d1082a66-a68f-4daa-9d00-a4ab74b42d74"
      },
      "execution_count": null,
      "outputs": [
        {
          "output_type": "execute_result",
          "data": {
            "text/plain": [
              "False"
            ]
          },
          "metadata": {},
          "execution_count": 29
        }
      ]
    },
    {
      "cell_type": "code",
      "source": [
        "a=30\n",
        "b=20\n",
        "c=50\n",
        "if(a+b==c):\n",
        "   print('okay') \n",
        "else:\n",
        "   print(\"not okay\")"
      ],
      "metadata": {
        "colab": {
          "base_uri": "https://localhost:8080/"
        },
        "id": "WLEZnjWd5xYJ",
        "outputId": "b05b5995-0c33-4895-e46e-5d275409e7cc"
      },
      "execution_count": null,
      "outputs": [
        {
          "output_type": "stream",
          "name": "stdout",
          "text": [
            "okay\n"
          ]
        }
      ]
    },
    {
      "cell_type": "code",
      "source": [
        "x=35\n",
        "y=55\n",
        "if(x>y):\n",
        " print('x is greater than y') \n",
        "elif(x<y):\n",
        " print('y is greater than x')"
      ],
      "metadata": {
        "colab": {
          "base_uri": "https://localhost:8080/"
        },
        "id": "tjs6l7H_6mF4",
        "outputId": "9f57775e-2ab4-4d88-a8d4-e1d5a9f99dfe"
      },
      "execution_count": null,
      "outputs": [
        {
          "output_type": "stream",
          "name": "stdout",
          "text": [
            "y is greater than x\n"
          ]
        }
      ]
    },
    {
      "cell_type": "code",
      "source": [
        "a=10\n",
        "b=20\n",
        "c=30\n",
        "\n",
        "if(a>b) and (a>c):\n",
        " print('a is the greatest') \n",
        "elif(b>a) and (b>c):\n",
        " print('b is greatest') \n",
        "else:\n",
        "   print(\"c is the greatest\")"
      ],
      "metadata": {
        "colab": {
          "base_uri": "https://localhost:8080/"
        },
        "id": "o2tj_DWm7Stu",
        "outputId": "d710288b-d53c-4771-c54b-d05744fd9fe1"
      },
      "execution_count": null,
      "outputs": [
        {
          "output_type": "stream",
          "name": "stdout",
          "text": [
            "c is the greatest\n"
          ]
        }
      ]
    },
    {
      "cell_type": "code",
      "source": [
        "True and True"
      ],
      "metadata": {
        "colab": {
          "base_uri": "https://localhost:8080/"
        },
        "id": "64uiNGuP7b38",
        "outputId": "5bcd138f-0d10-4ce3-e067-eb885318be56"
      },
      "execution_count": null,
      "outputs": [
        {
          "output_type": "execute_result",
          "data": {
            "text/plain": [
              "True"
            ]
          },
          "metadata": {},
          "execution_count": 35
        }
      ]
    },
    {
      "cell_type": "code",
      "source": [
        "True and False"
      ],
      "metadata": {
        "colab": {
          "base_uri": "https://localhost:8080/"
        },
        "id": "7mbCSjqO7t1F",
        "outputId": "287e2f39-5ce3-4bab-8fea-1480cbe223d2"
      },
      "execution_count": null,
      "outputs": [
        {
          "output_type": "execute_result",
          "data": {
            "text/plain": [
              "False"
            ]
          },
          "metadata": {},
          "execution_count": 36
        }
      ]
    },
    {
      "cell_type": "code",
      "source": [
        "False and False"
      ],
      "metadata": {
        "colab": {
          "base_uri": "https://localhost:8080/"
        },
        "id": "9rya4l_S7v8z",
        "outputId": "3140bd7a-0c77-412b-c71c-4f75021b5adb"
      },
      "execution_count": null,
      "outputs": [
        {
          "output_type": "execute_result",
          "data": {
            "text/plain": [
              "False"
            ]
          },
          "metadata": {},
          "execution_count": 37
        }
      ]
    },
    {
      "cell_type": "code",
      "source": [
        "False and True"
      ],
      "metadata": {
        "colab": {
          "base_uri": "https://localhost:8080/"
        },
        "id": "iQH7oWWcIyN_",
        "outputId": "369b5525-3e59-492f-c5f4-02b45e0e5e72"
      },
      "execution_count": null,
      "outputs": [
        {
          "output_type": "execute_result",
          "data": {
            "text/plain": [
              "False"
            ]
          },
          "metadata": {},
          "execution_count": 38
        }
      ]
    },
    {
      "cell_type": "code",
      "source": [
        "True or True"
      ],
      "metadata": {
        "colab": {
          "base_uri": "https://localhost:8080/"
        },
        "id": "obKrhUFgJIEe",
        "outputId": "e280fa8c-283f-4a1c-ecf9-654767bc3000"
      },
      "execution_count": null,
      "outputs": [
        {
          "output_type": "execute_result",
          "data": {
            "text/plain": [
              "True"
            ]
          },
          "metadata": {},
          "execution_count": 39
        }
      ]
    },
    {
      "cell_type": "code",
      "source": [
        "True or False"
      ],
      "metadata": {
        "colab": {
          "base_uri": "https://localhost:8080/"
        },
        "id": "BZGBsnEgJMue",
        "outputId": "4852d1a7-64da-4e79-bec7-6232c83886e8"
      },
      "execution_count": null,
      "outputs": [
        {
          "output_type": "execute_result",
          "data": {
            "text/plain": [
              "True"
            ]
          },
          "metadata": {},
          "execution_count": 40
        }
      ]
    },
    {
      "cell_type": "code",
      "source": [
        "False or False"
      ],
      "metadata": {
        "colab": {
          "base_uri": "https://localhost:8080/"
        },
        "id": "QzoduVcXJQ3G",
        "outputId": "a81a4944-286b-48e5-b726-a948e0b60c37"
      },
      "execution_count": null,
      "outputs": [
        {
          "output_type": "execute_result",
          "data": {
            "text/plain": [
              "False"
            ]
          },
          "metadata": {},
          "execution_count": 41
        }
      ]
    },
    {
      "cell_type": "code",
      "source": [
        "False and True"
      ],
      "metadata": {
        "colab": {
          "base_uri": "https://localhost:8080/"
        },
        "id": "K8gL6xJCJXJF",
        "outputId": "45e815f9-e356-4d88-8909-2895550ee0b4"
      },
      "execution_count": null,
      "outputs": [
        {
          "output_type": "execute_result",
          "data": {
            "text/plain": [
              "False"
            ]
          },
          "metadata": {},
          "execution_count": 42
        }
      ]
    },
    {
      "cell_type": "code",
      "source": [
        "not False"
      ],
      "metadata": {
        "colab": {
          "base_uri": "https://localhost:8080/"
        },
        "id": "aOR1I3wQJgMF",
        "outputId": "0cdb700d-fca1-4bc8-a622-ccd3e0edda1d"
      },
      "execution_count": null,
      "outputs": [
        {
          "output_type": "execute_result",
          "data": {
            "text/plain": [
              "True"
            ]
          },
          "metadata": {},
          "execution_count": 43
        }
      ]
    },
    {
      "cell_type": "code",
      "source": [
        "not True"
      ],
      "metadata": {
        "colab": {
          "base_uri": "https://localhost:8080/"
        },
        "id": "Kfo_kS3QJjW9",
        "outputId": "0fd4636a-9478-425f-c9b2-1967898b277a"
      },
      "execution_count": null,
      "outputs": [
        {
          "output_type": "execute_result",
          "data": {
            "text/plain": [
              "False"
            ]
          },
          "metadata": {},
          "execution_count": 44
        }
      ]
    },
    {
      "cell_type": "code",
      "source": [
        "a=0\n",
        "b=1"
      ],
      "metadata": {
        "id": "he69NWMtJ6Qr"
      },
      "execution_count": null,
      "outputs": []
    },
    {
      "cell_type": "code",
      "source": [
        "a and b"
      ],
      "metadata": {
        "colab": {
          "base_uri": "https://localhost:8080/"
        },
        "id": "P3LFTN0oMQdS",
        "outputId": "6cc7a213-f374-4be1-a2d1-096a8fb7cfba"
      },
      "execution_count": null,
      "outputs": [
        {
          "output_type": "execute_result",
          "data": {
            "text/plain": [
              "0"
            ]
          },
          "metadata": {},
          "execution_count": 49
        }
      ]
    },
    {
      "cell_type": "code",
      "source": [
        "a and a"
      ],
      "metadata": {
        "colab": {
          "base_uri": "https://localhost:8080/"
        },
        "id": "CAmeA0t4MTcF",
        "outputId": "ef516ed1-b136-4ec6-b5a6-7ba813c52466"
      },
      "execution_count": null,
      "outputs": [
        {
          "output_type": "execute_result",
          "data": {
            "text/plain": [
              "0"
            ]
          },
          "metadata": {},
          "execution_count": 50
        }
      ]
    },
    {
      "cell_type": "code",
      "source": [
        "b and a"
      ],
      "metadata": {
        "colab": {
          "base_uri": "https://localhost:8080/"
        },
        "id": "YYGcoaBNMYnV",
        "outputId": "cbe88660-432f-429e-eace-14450a843d77"
      },
      "execution_count": null,
      "outputs": [
        {
          "output_type": "execute_result",
          "data": {
            "text/plain": [
              "0"
            ]
          },
          "metadata": {},
          "execution_count": 51
        }
      ]
    },
    {
      "cell_type": "code",
      "source": [
        "b and b"
      ],
      "metadata": {
        "colab": {
          "base_uri": "https://localhost:8080/"
        },
        "id": "nhXsQ3DKMfq8",
        "outputId": "a712251c-e70d-4df4-a68f-e7266bffaacb"
      },
      "execution_count": null,
      "outputs": [
        {
          "output_type": "execute_result",
          "data": {
            "text/plain": [
              "0"
            ]
          },
          "metadata": {},
          "execution_count": 52
        }
      ]
    },
    {
      "cell_type": "code",
      "source": [
        "sale=79845"
      ],
      "metadata": {
        "id": "W56IbRdnNkrk"
      },
      "execution_count": null,
      "outputs": []
    },
    {
      "cell_type": "code",
      "source": [
        "if(sale>=5000 and sale<=19999):\n",
        " print(\"sluggish sales day\")\n",
        "elif(sale>=20000 and sale<=44999):\n",
        "  print(\"not a bad sales day\")\n",
        "elif(sale>=50000 and sale<=79999):\n",
        "    print(\"amazing sales day\")\n",
        "else:\n",
        "  print(\"enter a value between 5000 and 80000\")"
      ],
      "metadata": {
        "colab": {
          "base_uri": "https://localhost:8080/"
        },
        "id": "_oTh1dalNoQ7",
        "outputId": "c064cad7-874f-4f68-e794-1f782854f278"
      },
      "execution_count": null,
      "outputs": [
        {
          "output_type": "stream",
          "name": "stdout",
          "text": [
            "amazing sales day\n"
          ]
        }
      ]
    },
    {
      "cell_type": "code",
      "source": [
        "sale=43955"
      ],
      "metadata": {
        "id": "iczobtWENpv6"
      },
      "execution_count": null,
      "outputs": []
    },
    {
      "cell_type": "code",
      "source": [
        "if(sale>=5000 and sale<=19999):\n",
        " print(\"sluggish sales day\")\n",
        "elif(sale>=20000 and sale<=44999):\n",
        "  print(\"not a bad sales day\")\n",
        "elif(sale>=50000 and sale<=79999):\n",
        "    print(\"amazing sales day\")\n",
        "else:\n",
        "  print(\"enter a value between 5000 and 80000\")"
      ],
      "metadata": {
        "colab": {
          "base_uri": "https://localhost:8080/"
        },
        "id": "fODAblxyNwNx",
        "outputId": "4ac13dad-3d91-4889-c8dd-0d46ec9f4373"
      },
      "execution_count": null,
      "outputs": [
        {
          "output_type": "stream",
          "name": "stdout",
          "text": [
            "amazing sales day\n"
          ]
        }
      ]
    },
    {
      "cell_type": "code",
      "source": [
        "sale=int(input(\"RS.\"))"
      ],
      "metadata": {
        "colab": {
          "base_uri": "https://localhost:8080/"
        },
        "id": "YKWCHTXONzMJ",
        "outputId": "c587c3fa-979a-438d-c3a3-01047e86f56d"
      },
      "execution_count": null,
      "outputs": [
        {
          "name": "stdout",
          "output_type": "stream",
          "text": [
            "RS.88495\n"
          ]
        }
      ]
    },
    {
      "cell_type": "code",
      "source": [
        "if(sale>=5000 and sale<=19999):\n",
        " print(\"sluggish sales day\")\n",
        "elif(sale>=20000 and sale<=44999):\n",
        "  print(\"not a bad sales day\")\n",
        "elif(sale>=50000 and sale<=79999):\n",
        "    print(\"amazing sales day\")\n",
        "else:\n",
        "  print(\"enter a value between 5000 and 80000\")"
      ],
      "metadata": {
        "colab": {
          "base_uri": "https://localhost:8080/"
        },
        "id": "wQYPnWLUN_qZ",
        "outputId": "b91665c9-d9c4-4afb-9460-c0b9437d8771"
      },
      "execution_count": null,
      "outputs": [
        {
          "output_type": "stream",
          "name": "stdout",
          "text": [
            "enter a value between 5000 and 80000\n"
          ]
        }
      ]
    },
    {
      "cell_type": "code",
      "source": [
        "movierating=7.9"
      ],
      "metadata": {
        "id": "IANERqwROWow"
      },
      "execution_count": null,
      "outputs": []
    },
    {
      "cell_type": "code",
      "source": [
        "if(movierating>=0 and movierating<=3.4):\n",
        "  print(\"not a good movie\")\n",
        "elif(movierating>=3.5 and movierating<=6.4):\n",
        "  print(\"kind of an moderate movie\") \n",
        "elif(movierating>=6.5 and movierating<=7.9):\n",
        "  print('good movie')\n",
        "elif(movierating>=8.0 and movierating<=10.0):\n",
        "  print(\"excellent movie\")\n",
        "else:\n",
        "    print(\"enter your rating between 0 and 10.0\") "
      ],
      "metadata": {
        "colab": {
          "base_uri": "https://localhost:8080/"
        },
        "id": "DxDrdnOFOaK_",
        "outputId": "cca60741-ad93-4cbb-a995-7de1357e45bf"
      },
      "execution_count": null,
      "outputs": [
        {
          "output_type": "stream",
          "name": "stdout",
          "text": [
            "good movie\n"
          ]
        }
      ]
    },
    {
      "cell_type": "code",
      "source": [
        "movierating=3.1"
      ],
      "metadata": {
        "id": "WjliCuAXObPv"
      },
      "execution_count": null,
      "outputs": []
    },
    {
      "cell_type": "code",
      "source": [
        "if(movierating>=0 and movierating<=3.4):\n",
        "  print(\"not a good movie\")\n",
        "elif(movierating>=3.5 and movierating<=6.4):\n",
        "  print(\"kind of an moderate movie\") \n",
        "elif(movierating>=6.5 and movierating<=7.9):\n",
        "  print('good movie')\n",
        "elif(movierating>=8.0 and movierating<=10.0):\n",
        "  print(\"excellent movie\")\n",
        "else:\n",
        "    print(\"enter your rating between 0 and 10.0\") "
      ],
      "metadata": {
        "colab": {
          "base_uri": "https://localhost:8080/"
        },
        "id": "Aj_wMK3BOeA3",
        "outputId": "4a65b912-8277-4905-852a-61e3ae84c711"
      },
      "execution_count": null,
      "outputs": [
        {
          "output_type": "stream",
          "name": "stdout",
          "text": [
            "not a good movie\n"
          ]
        }
      ]
    },
    {
      "cell_type": "code",
      "source": [
        "movierating=8.6"
      ],
      "metadata": {
        "id": "mdEiUcf9Oijo"
      },
      "execution_count": null,
      "outputs": []
    },
    {
      "cell_type": "code",
      "source": [
        "if(movierating>=0 and movierating<=3.4):\n",
        "  print(\"not a good movie\")\n",
        "elif(movierating>=3.5 and movierating<=6.4):\n",
        "  print(\"kind of an moderate movie\") \n",
        "elif(movierating>=6.5 and movierating<=7.9):\n",
        "  print('good movie')\n",
        "elif(movierating>=8.0 and movierating<=10.0):\n",
        "  print(\"excellent movie\")\n",
        "else:\n",
        "    print(\"enter your rating between 0 and 10.0\") "
      ],
      "metadata": {
        "colab": {
          "base_uri": "https://localhost:8080/"
        },
        "id": "oZ6Tj4tYOlAr",
        "outputId": "306615cf-918f-471b-9d57-a6364e3d6e6d"
      },
      "execution_count": null,
      "outputs": [
        {
          "output_type": "stream",
          "name": "stdout",
          "text": [
            "excellent movie\n"
          ]
        }
      ]
    },
    {
      "cell_type": "code",
      "source": [
        "movierating=10.9"
      ],
      "metadata": {
        "id": "8JbxMD5hOpig"
      },
      "execution_count": null,
      "outputs": []
    },
    {
      "cell_type": "code",
      "source": [
        "if(movierating>=0 and movierating<=3.4):\n",
        "  print(\"not a good movie\")\n",
        "elif(movierating>=3.5 and movierating<=6.4):\n",
        "  print(\"kind of an moderate movie\") \n",
        "elif(movierating>=6.5 and movierating<=7.9):\n",
        "  print('good movie')\n",
        "elif(movierating>=8.0 and movierating<=10.0):\n",
        "  print(\"excellent movie\")\n",
        "else:\n",
        "    print(\"enter your rating between 0 and 10.0\") "
      ],
      "metadata": {
        "colab": {
          "base_uri": "https://localhost:8080/"
        },
        "id": "EGcF5ikuOsJH",
        "outputId": "7aa6cdbb-c52b-42bc-bf56-af86ccd458c4"
      },
      "execution_count": null,
      "outputs": [
        {
          "output_type": "stream",
          "name": "stdout",
          "text": [
            "enter your rating between 0 and 10.0\n"
          ]
        }
      ]
    },
    {
      "cell_type": "code",
      "source": [
        "fname=str(input(\"Enter your First Name:\")) \n",
        "lname=str(input(\"Enter your Last Name:\")) \n",
        "print(fname+ \" \" +lname )"
      ],
      "metadata": {
        "colab": {
          "base_uri": "https://localhost:8080/"
        },
        "id": "VMRxleBdO9AH",
        "outputId": "f85247fa-dc86-49ea-f760-dea4c57153a8"
      },
      "execution_count": null,
      "outputs": [
        {
          "output_type": "stream",
          "name": "stdout",
          "text": [
            "Enter your First Name:Harikrishna\n",
            "Enter your Last Name:Selvaraj\n",
            "Harikrishna Selvaraj\n"
          ]
        }
      ]
    },
    {
      "cell_type": "code",
      "source": [
        "def count_notes_of_hundreds():\n",
        " y=int(input(\"enter notes in bundle:\")) \n",
        " if(y==10):\n",
        "  print(\"₹\"+10*100)\n",
        " elif(y==20):\n",
        "  print(\"₹\",20*100) \n",
        " elif(y==30):\n",
        "  print(\"₹\",30*100)\n",
        "\n",
        "count_notes_of_hundreds()"
      ],
      "metadata": {
        "colab": {
          "base_uri": "https://localhost:8080/"
        },
        "id": "At5I1T2mPGXe",
        "outputId": "048fbb3c-4a02-4055-afc6-3935890efd78"
      },
      "execution_count": null,
      "outputs": [
        {
          "output_type": "stream",
          "name": "stdout",
          "text": [
            "enter notes in bundle:20\n",
            "₹ 2000\n"
          ]
        }
      ]
    },
    {
      "cell_type": "code",
      "source": [
        "def student_data(name,age,school):\n",
        "   print(\"Name:\", name) \n",
        "   print(\"Age:\", age) \n",
        "   print(\"School:\", school)"
      ],
      "metadata": {
        "id": "P3G5VttyPng1"
      },
      "execution_count": null,
      "outputs": []
    },
    {
      "cell_type": "code",
      "source": [
        "student_data(\"Hari\",15,\"Seshaas\")"
      ],
      "metadata": {
        "colab": {
          "base_uri": "https://localhost:8080/"
        },
        "id": "KK3GfWjfPqm-",
        "outputId": "56389580-d7d4-4793-eda3-b046dd2be578"
      },
      "execution_count": null,
      "outputs": [
        {
          "output_type": "stream",
          "name": "stdout",
          "text": [
            "Name: Hari\n",
            "Age: 15\n",
            "School: Seshaas\n"
          ]
        }
      ]
    },
    {
      "cell_type": "code",
      "source": [
        "student_data(age=15,school=\"Seshaas\",name=\"Hari\")"
      ],
      "metadata": {
        "colab": {
          "base_uri": "https://localhost:8080/"
        },
        "id": "l-eNpSGGPtn0",
        "outputId": "114d60a7-48e8-4129-9fed-345b84a8ea4f"
      },
      "execution_count": null,
      "outputs": [
        {
          "output_type": "stream",
          "name": "stdout",
          "text": [
            "Name: Hari\n",
            "Age: 15\n",
            "School: Seshaas\n"
          ]
        }
      ]
    },
    {
      "cell_type": "code",
      "source": [
        "def student(name,age,city=\"Salem\"):\n",
        "    print(\"Name:\", name) \n",
        "    print(\"Age:\", age) \n",
        "    print(\"City:\", city)"
      ],
      "metadata": {
        "id": "EFIHuf0GQIxE"
      },
      "execution_count": null,
      "outputs": []
    },
    {
      "cell_type": "code",
      "source": [
        "student(\"Hari\",15)"
      ],
      "metadata": {
        "colab": {
          "base_uri": "https://localhost:8080/"
        },
        "id": "DHqTDJMIQMVr",
        "outputId": "0f40ea48-104b-4229-ee75-b59578ca3f10"
      },
      "execution_count": null,
      "outputs": [
        {
          "output_type": "stream",
          "name": "stdout",
          "text": [
            "Name: Hari\n",
            "Age: 15\n",
            "City: Salem\n"
          ]
        }
      ]
    },
    {
      "cell_type": "code",
      "source": [
        "def get_data(x,*y):\n",
        "    print(x) \n",
        "    print(y)"
      ],
      "metadata": {
        "id": "5ZaxKJXbQN_b"
      },
      "execution_count": null,
      "outputs": []
    },
    {
      "cell_type": "code",
      "source": [
        "get_data(12, 34,23,98,45,33,444,4,12)"
      ],
      "metadata": {
        "colab": {
          "base_uri": "https://localhost:8080/"
        },
        "id": "HV8XvEJJQTk_",
        "outputId": "bf83e4c7-49c6-428b-c777-d3792d9c141b"
      },
      "execution_count": null,
      "outputs": [
        {
          "output_type": "stream",
          "name": "stdout",
          "text": [
            "12\n",
            "(34, 23, 98, 45, 33, 444, 4, 12)\n"
          ]
        }
      ]
    },
    {
      "cell_type": "code",
      "source": [
        " def get_student(*data):\n",
        "   print(data)\n",
        "\n",
        "get_student(\"Hari\", 15,\"Salem\", \"Tamilnadu\", \"India\")"
      ],
      "metadata": {
        "colab": {
          "base_uri": "https://localhost:8080/"
        },
        "id": "vesJvpmnQZ26",
        "outputId": "24961426-c416-40cf-8ab7-9c34e712e75a"
      },
      "execution_count": null,
      "outputs": [
        {
          "output_type": "stream",
          "name": "stdout",
          "text": [
            "('Hari', 15, 'Salem', 'Tamilnadu', 'India')\n"
          ]
        }
      ]
    },
    {
      "cell_type": "code",
      "source": [
        "def get_student(*data):\n",
        "   print(data)\n",
        "   print(type(data)) \n",
        "\n",
        "get_student(\"Hari\", 15,\"Salem\", \"Tamilnadu\", \"India\")"
      ],
      "metadata": {
        "id": "hHADu1y9QddS",
        "outputId": "f6671265-9802-4f20-91c9-ecc441fa8632",
        "colab": {
          "base_uri": "https://localhost:8080/"
        }
      },
      "execution_count": null,
      "outputs": [
        {
          "output_type": "stream",
          "name": "stdout",
          "text": [
            "('Hari', 15, 'Salem', 'Tamilnadu', 'India')\n",
            "<class 'tuple'>\n"
          ]
        }
      ]
    }
  ]
}